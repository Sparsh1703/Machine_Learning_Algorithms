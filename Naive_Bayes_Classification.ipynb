{
 "cells": [
  {
   "cell_type": "markdown",
   "id": "58d80db7",
   "metadata": {},
   "source": [
    "Naive Bayes models are a group of extremely fast and simple classification algorithms that are often suitable for very high-dimensional datasets. Because they are so fast and have so few tunable parameters, they end up being very useful as a quick-and-dirty baseline for a classification problem."
   ]
  },
  {
   "cell_type": "markdown",
   "id": "1e4730f1",
   "metadata": {},
   "source": [
    "## Bayesian Classification\n",
    "\n",
    "Naive Bayes classifiers are built on Bayesian classification methods. These rely on Bayes's theorem, which is an equation describing the relationship of conditional probabilities of statistical quantities. In Bayesian classification, we're interested in finding the probability of a label given some observed features, which we can write as $P(L~|~{\\rm features})$."
   ]
  },
  {
   "cell_type": "markdown",
   "id": "363442c8",
   "metadata": {},
   "source": [
    "If we are trying to decide between two labels—let's call them $L_1$ and $L_2$—then one way to make this decision is to compute the ratio of the posterior probabilities for each label:\n",
    "\n",
    "P(L1 | features)/P(L2 | features)=P(features | L1)/P(features | L2) * P(L1)/P(L2)\n",
    "All we need now is some model by which we can compute $P({\\rm features}~|~L_i)$ for each label. Such a model is called a generative model because it specifies the hypothetical random process that generates the data. Specifying this generative model for each label is the main piece of the training of such a Bayesian classifier. The general version of such a training step is a very difficult task, but we can make it simpler through the use of some simplifying assumptions about the form of this model.\n",
    "\n",
    "This is where the \"naive\" in \"naive Bayes\" comes in: if we make very naive assumptions about the generative model for each label, we can find a rough approximation of the generative model for each class, and then proceed with the Bayesian classification."
   ]
  },
  {
   "cell_type": "code",
   "execution_count": 1,
   "id": "c942ebc4",
   "metadata": {},
   "outputs": [],
   "source": [
    "import numpy as np\n",
    "import seaborn as sns\n",
    "import matplotlib.pyplot as plt\n",
    "%matplotlib inline"
   ]
  },
  {
   "cell_type": "code",
   "execution_count": 2,
   "id": "16e4e440",
   "metadata": {},
   "outputs": [],
   "source": [
    "sns.set()"
   ]
  },
  {
   "cell_type": "markdown",
   "id": "c0288d87",
   "metadata": {},
   "source": [
    "## Gausssian Naive Bayes"
   ]
  },
  {
   "cell_type": "markdown",
   "id": "2d405a7d",
   "metadata": {},
   "source": [
    "In this classifier, the assumption is that data from each label is drawn from a simple Gaussian distribution."
   ]
  },
  {
   "cell_type": "code",
   "execution_count": 3,
   "id": "17bfe0bb",
   "metadata": {},
   "outputs": [
    {
     "data": {
      "image/png": "[encoded data removed]",
      "text/plain": [
       "<Figure size 432x288 with 1 Axes>"
      ]
     },
     "metadata": {},
     "output_type": "display_data"
    }
   ],
   "source": [
    "from sklearn.datasets import make_blobs\n",
    "X, y = make_blobs(100, 2, centers=2, random_state=2, cluster_std=1.5)\n",
    "plt.scatter(X[:, 0], X[:, 1], c=y, s=50, cmap='RdBu');"
   ]
  },
  {
   "cell_type": "code",
   "execution_count": 4,
   "id": "2ec745ea",
   "metadata": {},
   "outputs": [
    {
     "data": {
      "text/plain": [
       "(100, 2)"
      ]
     },
     "execution_count": 4,
     "metadata": {},
     "output_type": "execute_result"
    }
   ],
   "source": [
    "X.shape"
   ]
  },
  {
   "cell_type": "code",
   "execution_count": 5,
   "id": "d1332eb5",
   "metadata": {},
   "outputs": [
    {
     "data": {
      "text/plain": [
       "(100,)"
      ]
     },
     "execution_count": 5,
     "metadata": {},
     "output_type": "execute_result"
    }
   ],
   "source": [
    "y.shape"
   ]
  },
  {
   "cell_type": "code",
   "execution_count": 6,
   "id": "238cf9a0",
   "metadata": {},
   "outputs": [
    {
     "data": {
      "text/plain": [
       "array([[  0.92141506,  -9.98499137],\n",
       "       [ -5.26927614,  -9.6186543 ],\n",
       "       [ -0.45292089,  -6.04316334],\n",
       "       [ -0.0856312 ,  -2.16867404],\n",
       "       [  1.53194956,  -0.36022153],\n",
       "       [ -0.72443515,  -7.44202457],\n",
       "       [ -0.52577983, -11.34940749],\n",
       "       [ -1.23044866,  -0.02408431],\n",
       "       [ -2.25997736,  -8.21779094],\n",
       "       [  0.77075118,  -7.65464691],\n",
       "       [  1.90846569,  -0.6583068 ],\n",
       "       [  2.99659881,  -0.83960814],\n",
       "       [ -1.75036425,  -8.32495776],\n",
       "       [  1.26386427,  -0.46380574],\n",
       "       [ -2.92821038,  -7.10474478],\n",
       "       [ -1.18679697,  -1.80057881],\n",
       "       [ -0.70730261,  -8.6320622 ],\n",
       "       [ -0.597949  ,  -0.40605237],\n",
       "       [ -3.88704121,  -7.92023943],\n",
       "       [ -0.49365731,  -8.378556  ],\n",
       "       [ -0.97378999,  -7.371431  ],\n",
       "       [  0.7183647 ,   0.23622995],\n",
       "       [  1.355409  ,  -0.54741367],\n",
       "       [ -0.47151448, -10.37571491],\n",
       "       [ -0.95592795, -12.26939394],\n",
       "       [ -2.5972638 ,  -9.71612662],\n",
       "       [  0.44653092,  -2.60752136],\n",
       "       [ -4.93225332,  -9.31238561],\n",
       "       [ -0.04304745,  -7.60915598],\n",
       "       [  0.65087822,  -4.39797054],\n",
       "       [  0.31190778,  -0.52199607],\n",
       "       [ -0.88989127,   0.11369336],\n",
       "       [  2.19201955,   0.60036835],\n",
       "       [ -1.21779287, -11.15836353],\n",
       "       [ -2.29661532, -11.6406339 ],\n",
       "       [ -3.4119278 ,  -9.71171816],\n",
       "       [ -4.08223794,  -6.88469836],\n",
       "       [ -0.83889419,   1.41316281],\n",
       "       [ -0.89524628, -10.96464394],\n",
       "       [  1.54082983,  -0.1324291 ],\n",
       "       [  2.2374372 ,  -0.3476192 ],\n",
       "       [ -2.86703029, -10.84498679],\n",
       "       [ -0.62985746,  -7.56390652],\n",
       "       [  1.74015978,  -1.10379588],\n",
       "       [ -1.32676236,  -4.41753005],\n",
       "       [ -1.56430585,  -9.59730336],\n",
       "       [ -0.53887254,  -0.6449586 ],\n",
       "       [  2.03754653,  -0.24742774],\n",
       "       [ -2.23658448, -11.26289379],\n",
       "       [ -0.70822817,  -2.35468348],\n",
       "       [ -1.84360609,  -9.59318151],\n",
       "       [  0.77102877,   0.95860323],\n",
       "       [  2.54279316,  -1.7870558 ],\n",
       "       [  0.57898032,  -2.06887799],\n",
       "       [ -2.40190838,  -9.46793749],\n",
       "       [  2.12119683,  -2.78419362],\n",
       "       [  0.46218028,  -8.90235829],\n",
       "       [  0.50787945,  -0.65781509],\n",
       "       [ -0.52731615, -10.74779592],\n",
       "       [ -0.36011954,  -2.18001056],\n",
       "       [  0.50567512,  -2.13390391],\n",
       "       [  3.29089003,  -4.27232081],\n",
       "       [ -1.97310998,  -8.95514262],\n",
       "       [  0.5371199 ,   2.58439015],\n",
       "       [  2.65696448,  -3.94092874],\n",
       "       [ -0.709394  ,  -9.80717827],\n",
       "       [ -1.90907668,  -9.67996871],\n",
       "       [  0.82161761,  -2.04081344],\n",
       "       [  1.5880298 ,  -1.7654783 ],\n",
       "       [  0.22044687, -10.05311414],\n",
       "       [  3.68213884,  -1.93707213],\n",
       "       [  3.74624864,  -0.63251734],\n",
       "       [  2.43442247,  -0.15599663],\n",
       "       [  2.67007966,  -1.70491528],\n",
       "       [ -2.23212091,  -8.718881  ],\n",
       "       [  3.60596784,  -1.96480346],\n",
       "       [ -3.97025533, -10.74409641],\n",
       "       [ -2.52380489,  -9.34991004],\n",
       "       [ -1.85237668,  -9.38174185],\n",
       "       [ -0.05463537,  -2.68689003],\n",
       "       [  0.48019529, -12.99688015],\n",
       "       [ -1.33945732,  -8.99247021],\n",
       "       [  4.81890691,  -3.50331202],\n",
       "       [  5.91286766,   0.16273983],\n",
       "       [ -0.23742255, -12.53167518],\n",
       "       [ -0.73325486,  -1.93333585],\n",
       "       [  1.18048503,  -0.15879893],\n",
       "       [ -0.36309079,  -9.40951948],\n",
       "       [  0.10261618,   0.4306987 ],\n",
       "       [ -1.3087977 ,  -7.71897353],\n",
       "       [  7.15628849,  -0.06187083],\n",
       "       [ -4.34058653,  -9.41209208],\n",
       "       [ -1.6836874 ,  -6.13442518],\n",
       "       [ -1.13496627,  -1.67121333],\n",
       "       [ -2.97980187,  -8.83183653],\n",
       "       [ -1.78833491,  -9.83575141],\n",
       "       [  0.29073017,  -3.17563261],\n",
       "       [ -1.88594036, -11.55825336],\n",
       "       [ -1.28008731,  -8.66794651],\n",
       "       [  1.89552328,  -1.28806291]])"
      ]
     },
     "execution_count": 6,
     "metadata": {},
     "output_type": "execute_result"
    }
   ],
   "source": [
    "X"
   ]
  },
  {
   "cell_type": "code",
   "execution_count": 7,
   "id": "8e1939aa",
   "metadata": {},
   "outputs": [
    {
     "data": {
      "text/plain": [
       "array([0, 0, 0, 1, 1, 0, 0, 1, 0, 0, 1, 1, 0, 1, 0, 1, 0, 1, 0, 0, 0, 1,\n",
       "       1, 0, 0, 0, 1, 0, 0, 1, 1, 1, 1, 0, 0, 0, 0, 1, 0, 1, 1, 0, 0, 1,\n",
       "       1, 0, 1, 1, 0, 1, 0, 1, 1, 1, 0, 1, 0, 1, 0, 1, 1, 1, 0, 1, 1, 0,\n",
       "       0, 1, 1, 0, 1, 1, 1, 1, 0, 1, 0, 0, 0, 1, 0, 0, 1, 1, 0, 1, 1, 0,\n",
       "       1, 0, 1, 0, 0, 1, 0, 0, 1, 0, 0, 1])"
      ]
     },
     "execution_count": 7,
     "metadata": {},
     "output_type": "execute_result"
    }
   ],
   "source": [
    "y"
   ]
  },
  {
   "cell_type": "markdown",
   "id": "7275289f",
   "metadata": {},
   "source": [
    "One extremely fast way to create a simple model is to assume that the data is described by a Gaussian distribution with no covariance between dimensions. This model can be fit by simply finding the mean and standard deviation of the points within each label, which is all you need to define such a distribution."
   ]
  },
  {
   "cell_type": "code",
   "execution_count": 8,
   "id": "a005ff8e",
   "metadata": {},
   "outputs": [
    {
     "data": {
      "text/plain": [
       "GaussianNB()"
      ]
     },
     "execution_count": 8,
     "metadata": {},
     "output_type": "execute_result"
    }
   ],
   "source": [
    "from sklearn.naive_bayes import GaussianNB\n",
    "model = GaussianNB()\n",
    "model.fit(X,y)"
   ]
  },
  {
   "cell_type": "code",
   "execution_count": 9,
   "id": "05030569",
   "metadata": {},
   "outputs": [],
   "source": [
    "# Generating some new data and predicting them\n",
    "\n",
    "rng = np.random.RandomState(33)\n",
    "Xnew = rng.rand(1000,2)\n",
    "ynew = model.predict(Xnew)"
   ]
  },
  {
   "cell_type": "code",
   "execution_count": 10,
   "id": "80b46e6a",
   "metadata": {},
   "outputs": [
    {
     "data": {
      "image/png": "[encoded data removed]",
      "text/plain": [
       "<Figure size 432x288 with 1 Axes>"
      ]
     },
     "metadata": {},
     "output_type": "display_data"
    }
   ],
   "source": [
    "plt.scatter(X[:, 0], X[:, 1], c=y, s=50, cmap='RdBu')\n",
    "lim = plt.axis()\n",
    "plt.scatter(Xnew[:, 0], Xnew[:, 1], c=ynew, s=20, cmap='rainbow_r', alpha=0.1)\n",
    "plt.axis(lim);"
   ]
  },
  {
   "cell_type": "code",
   "execution_count": 11,
   "id": "d3f67e3c",
   "metadata": {},
   "outputs": [
    {
     "data": {
      "text/plain": [
       "array([[0., 1.],\n",
       "       [0., 1.],\n",
       "       [0., 1.],\n",
       "       [0., 1.],\n",
       "       [0., 1.],\n",
       "       [0., 1.],\n",
       "       [0., 1.],\n",
       "       [0., 1.]])"
      ]
     },
     "execution_count": 11,
     "metadata": {},
     "output_type": "execute_result"
    }
   ],
   "source": [
    "yprob = model.predict_proba(Xnew)\n",
    "yprob[-8:].round(2)"
   ]
  },
  {
   "cell_type": "markdown",
   "id": "6ea4af6b",
   "metadata": {},
   "source": [
    "## Example: Classifying Text"
   ]
  },
  {
   "cell_type": "code",
   "execution_count": 12,
   "id": "15953386",
   "metadata": {},
   "outputs": [],
   "source": [
    "from sklearn.datasets import fetch_20newsgroups\n",
    "data = fetch_20newsgroups()"
   ]
  },
  {
   "cell_type": "code",
   "execution_count": 30,
   "id": "6f6010c8",
   "metadata": {},
   "outputs": [
    {
     "data": {
      "text/plain": [
       "['alt.atheism',\n",
       " 'comp.graphics',\n",
       " 'comp.os.ms-windows.misc',\n",
       " 'comp.sys.ibm.pc.hardware',\n",
       " 'comp.sys.mac.hardware',\n",
       " 'comp.windows.x',\n",
       " 'misc.forsale',\n",
       " 'rec.autos',\n",
       " 'rec.motorcycles',\n",
       " 'rec.sport.baseball',\n",
       " 'rec.sport.hockey',\n",
       " 'sci.crypt',\n",
       " 'sci.electronics',\n",
       " 'sci.med',\n",
       " 'sci.space',\n",
       " 'soc.religion.christian',\n",
       " 'talk.politics.guns',\n",
       " 'talk.politics.mideast',\n",
       " 'talk.politics.misc',\n",
       " 'talk.religion.misc']"
      ]
     },
     "execution_count": 30,
     "metadata": {},
     "output_type": "execute_result"
    }
   ],
   "source": [
    "data.target_names"
   ]
  },
  {
   "cell_type": "code",
   "execution_count": 13,
   "id": "1cc947c2",
   "metadata": {},
   "outputs": [],
   "source": [
    "categories = ['talk.religion.misc', 'soc.religion.christian',\n",
    "              'sci.space', 'comp.graphics']\n",
    "train = fetch_20newsgroups(subset='train', categories=categories)\n",
    "test = fetch_20newsgroups(subset='test', categories=categories)"
   ]
  },
  {
   "cell_type": "code",
   "execution_count": 36,
   "id": "9ad944ba",
   "metadata": {},
   "outputs": [
    {
     "name": "stdout",
     "output_type": "stream",
     "text": [
      "From: dmcgee@uluhe.soest.hawaii.edu (Don McGee)\n",
      "Subject: Federal Hearing\n",
      "Originator: dmcgee@uluhe\n",
      "Organization: School of Ocean and Earth Science and Technology\n",
      "Distribution: usa\n",
      "Lines: 10\n",
      "\n",
      "\n",
      "Fact or rumor....?  Madalyn Murray O'Hare an atheist who eliminated the\n",
      "use of the bible reading and prayer in public schools 15 years ago is now\n",
      "going to appear before the FCC with a petition to stop the reading of the\n",
      "Gospel on the airways of America.  And she is also campaigning to remove\n",
      "Christmas programs, songs, etc from the public schools.  If it is true\n",
      "then mail to Federal Communications Commission 1919 H Street Washington DC\n",
      "20054 expressing your opposition to her request.  Reference Petition number\n",
      "\n",
      "2493.\n",
      "\n"
     ]
    }
   ],
   "source": [
    "print(train.data[5])"
   ]
  },
  {
   "cell_type": "code",
   "execution_count": 17,
   "id": "d5ec90ac",
   "metadata": {},
   "outputs": [
    {
     "name": "stdout",
     "output_type": "stream",
     "text": [
      "3\n"
     ]
    }
   ],
   "source": [
    "print(train.target[5])"
   ]
  },
  {
   "cell_type": "code",
   "execution_count": 15,
   "id": "ea725918",
   "metadata": {},
   "outputs": [],
   "source": [
    "from sklearn.feature_extraction.text import TfidfVectorizer\n",
    "from sklearn.naive_bayes import MultinomialNB\n",
    "from sklearn.pipeline import make_pipeline\n",
    "\n",
    "model = make_pipeline(TfidfVectorizer(), MultinomialNB())"
   ]
  },
  {
   "cell_type": "code",
   "execution_count": 16,
   "id": "db2c6e1d",
   "metadata": {},
   "outputs": [],
   "source": [
    "model.fit(train.data, train.target)\n",
    "labels = model.predict(test.data)"
   ]
  },
  {
   "cell_type": "code",
   "execution_count": 18,
   "id": "3aa27ac8",
   "metadata": {},
   "outputs": [
    {
     "data": {
      "image/png": "[encoded data removed]",
      "text/plain": [
       "<Figure size 432x288 with 1 Axes>"
      ]
     },
     "metadata": {},
     "output_type": "display_data"
    }
   ],
   "source": [
    "from sklearn.metrics import confusion_matrix\n",
    "mat = confusion_matrix(test.target, labels)\n",
    "sns.heatmap(mat.T, square=True, annot=True, fmt='d', cbar=False,\n",
    "            xticklabels=train.target_names, yticklabels=train.target_names)\n",
    "plt.xlabel('true label')\n",
    "plt.ylabel('predicted label');"
   ]
  },
  {
   "cell_type": "code",
   "execution_count": 39,
   "id": "3cc9de59",
   "metadata": {},
   "outputs": [
    {
     "data": {
      "text/plain": [
       "['comp.graphics', 'sci.space', 'soc.religion.christian', 'talk.religion.misc']"
      ]
     },
     "execution_count": 39,
     "metadata": {},
     "output_type": "execute_result"
    }
   ],
   "source": [
    "train.target_names"
   ]
  },
  {
   "cell_type": "code",
   "execution_count": 40,
   "id": "9e6f264c",
   "metadata": {},
   "outputs": [
    {
     "data": {
      "text/plain": [
       "['comp.graphics', 'sci.space', 'soc.religion.christian', 'talk.religion.misc']"
      ]
     },
     "execution_count": 40,
     "metadata": {},
     "output_type": "execute_result"
    }
   ],
   "source": [
    "test.target_names"
   ]
  },
  {
   "cell_type": "code",
   "execution_count": 41,
   "id": "3a99df41",
   "metadata": {},
   "outputs": [
    {
     "data": {
      "text/plain": [
       "0.8016759776536313"
      ]
     },
     "execution_count": 41,
     "metadata": {},
     "output_type": "execute_result"
    }
   ],
   "source": [
    "from sklearn.metrics import accuracy_score\n",
    "accuracy_score(test.target, labels)"
   ]
  },
  {
   "cell_type": "markdown",
   "id": "7f4f5039",
   "metadata": {},
   "source": [
    "## Example from Geeks of Geeks"
   ]
  },
  {
   "cell_type": "code",
   "execution_count": 1,
   "id": "7d325381",
   "metadata": {},
   "outputs": [
    {
     "name": "stdout",
     "output_type": "stream",
     "text": [
      "Gaussian Naive Bayes model accuracy(in %): 95.0\n"
     ]
    }
   ],
   "source": [
    "# load the iris dataset\n",
    "from sklearn.datasets import load_iris\n",
    "iris = load_iris()\n",
    " \n",
    "# store the feature matrix (X) and response vector (y)\n",
    "X = iris.data\n",
    "y = iris.target\n",
    " \n",
    "# splitting X and y into training and testing sets\n",
    "from sklearn.model_selection import train_test_split\n",
    "X_train, X_test, y_train, y_test = train_test_split(X, y, test_size=0.4, random_state=1)\n",
    " \n",
    "# training the model on training set\n",
    "from sklearn.naive_bayes import GaussianNB\n",
    "gnb = GaussianNB()\n",
    "gnb.fit(X_train, y_train)\n",
    " \n",
    "# making predictions on the testing set\n",
    "y_pred = gnb.predict(X_test)\n",
    " \n",
    "# comparing actual response values (y_test) with predicted response values (y_pred)\n",
    "from sklearn import metrics\n",
    "print(\"Gaussian Naive Bayes model accuracy(in %):\", metrics.accuracy_score(y_test, y_pred)*100)"
   ]
  },
  {
   "cell_type": "code",
   "execution_count": null,
   "id": "9f412053",
   "metadata": {},
   "outputs": [],
   "source": []
  }
 ],
 "metadata": {
  "kernelspec": {
   "display_name": "Python 3 (ipykernel)",
   "language": "python",
   "name": "python3"
  },
  "language_info": {
   "codemirror_mode": {
    "name": "ipython",
    "version": 3
   },
   "file_extension": ".py",
   "mimetype": "text/x-python",
   "name": "python",
   "nbconvert_exporter": "python",
   "pygments_lexer": "ipython3",
   "version": "3.9.7"
  }
 },
 "nbformat": 4,
 "nbformat_minor": 5
}
